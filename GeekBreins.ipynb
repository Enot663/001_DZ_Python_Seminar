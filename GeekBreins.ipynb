{
  "nbformat": 4,
  "nbformat_minor": 0,
  "metadata": {
    "colab": {
      "provenance": [],
      "authorship_tag": "ABX9TyP0RqKWchoW9vp5iXYt8w2O",
      "include_colab_link": true
    },
    "kernelspec": {
      "name": "python3",
      "display_name": "Python 3"
    },
    "language_info": {
      "name": "python"
    }
  },
  "cells": [
    {
      "cell_type": "markdown",
      "metadata": {
        "id": "view-in-github",
        "colab_type": "text"
      },
      "source": [
        "<a href=\"https://colab.research.google.com/github/Enot663/001_DZ_Python_Seminar/blob/main/GeekBreins.ipynb\" target=\"_parent\"><img src=\"https://colab.research.google.com/assets/colab-badge.svg\" alt=\"Open In Colab\"/></a>"
      ]
    },
    {
      "cell_type": "markdown",
      "source": [
        "# **Горячие клавиши**"
      ],
      "metadata": {
        "id": "Y1UCR6zIns82"
      }
    },
    {
      "cell_type": "markdown",
      "source": [
        "## *__Edit Mode (press Enter to enable)__*\n",
        "\n",
        "  #### Ctrl-A : select all.\n",
        "\n",
        "  #### Ctrl Home : go to cell start.\n",
        "\n",
        "  #### Ctrl End : go to cell end.\n",
        "\n",
        "  #### Ctrl Left : go one word left.\n",
        "\n",
        "  #### Ctrl Right : go one word right.\n",
        "\n",
        "  #### Tab : code completion or indent\n",
        "\n",
        "  #### Shift-Tab : tooltip"
      ],
      "metadata": {
        "id": "4tffQiEcm9b3"
      }
    }
  ]
}